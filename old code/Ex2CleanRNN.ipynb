{
 "cells": [
  {
   "cell_type": "markdown",
   "metadata": {
    "id": "h1nH5Num98SX"
   },
   "source": [
    "#Pre-run\n",
    "Loading the necessery libraries."
   ]
  },
  {
   "cell_type": "code",
   "execution_count": 1,
   "metadata": {
    "executionInfo": {
     "elapsed": 4421,
     "status": "ok",
     "timestamp": 1614871053151,
     "user": {
      "displayName": "Chen Goldstein",
      "photoUrl": "",
      "userId": "01058104303181922159"
     },
     "user_tz": -120
    },
    "id": "wasA0H1PJ_na"
   },
   "outputs": [],
   "source": [
    "import numpy as np\n",
    "import torch\n",
    "from torch import nn\n",
    "from torch import optim\n",
    "import torch.nn.functional as F\n",
    "import os\n",
    "import string \n",
    "from google.colab import drive\n",
    "from string import punctuation\n",
    "from collections import Counter\n",
    "from torch.utils.data import TensorDataset, DataLoader\n",
    "import time\n",
    "import matplotlib.pyplot as plt\n"
   ]
  },
  {
   "cell_type": "markdown",
   "metadata": {
    "id": "8t7xVIWRNqBy"
   },
   "source": [
    "mounting the drive and checking for device\n",
    "\n",
    "\n",
    "\n",
    "\n"
   ]
  },
  {
   "cell_type": "code",
   "execution_count": 2,
   "metadata": {
    "colab": {
     "base_uri": "https://localhost:8080/"
    },
    "executionInfo": {
     "elapsed": 28316,
     "status": "ok",
     "timestamp": 1614871077063,
     "user": {
      "displayName": "Chen Goldstein",
      "photoUrl": "",
      "userId": "01058104303181922159"
     },
     "user_tz": -120
    },
    "id": "Srs9z8ZKNvcN",
    "outputId": "16b5a16d-08b2-4264-ca38-a9706ba1a1cd"
   },
   "outputs": [
    {
     "name": "stdout",
     "output_type": "stream",
     "text": [
      "Mounted at /content/drive\n",
      "training on:  cuda\n"
     ]
    }
   ],
   "source": [
    "drive.mount('/content/drive')\n",
    "device = 'cuda' if torch.cuda.is_available() else 'cpu'\n",
    "print('training on: ',device)\n"
   ]
  },
  {
   "cell_type": "markdown",
   "metadata": {
    "id": "dtKub5bN-ITO"
   },
   "source": [
    "## Loading the data (text) files from the drive.\n",
    "loading the train data.\n"
   ]
  },
  {
   "cell_type": "code",
   "execution_count": 3,
   "metadata": {
    "executionInfo": {
     "elapsed": 30505,
     "status": "ok",
     "timestamp": 1614871083087,
     "user": {
      "displayName": "Chen Goldstein",
      "photoUrl": "",
      "userId": "01058104303181922159"
     },
     "user_tz": -120
    },
    "id": "JZWfUMNS-OD_"
   },
   "outputs": [],
   "source": [
    "with open('/content/drive/Shared drives/ex2_208298349_211538608/datasets/PTB/train/ptb.train.txt', 'r') as f:\n",
    "  train_txt = f.read()\n",
    "with open('/content/drive/Shared drives/ex2_208298349_211538608/datasets/PTB/train/ptb.char.train.txt', 'r') as f:\n",
    "  train_char = f.read()"
   ]
  },
  {
   "cell_type": "markdown",
   "metadata": {
    "id": "rt7ciXcaAXJY"
   },
   "source": [
    "Loading the validation data.\n",
    "\n"
   ]
  },
  {
   "cell_type": "code",
   "execution_count": null,
   "metadata": {
    "id": "NeJ25Xw1ABux"
   },
   "outputs": [],
   "source": [
    "with open('/content/drive/Shared drives/ex2_208298349_211538608/datasets/PTB/valid/ptb.valid.txt', 'r') as f:\n",
    "  val_txt = f.read()\n",
    "with open('/content/drive/Shared drives/ex2_208298349_211538608/datasets/PTB/valid/ptb.char.valid.txt', 'r') as f:\n",
    "  val_char = f.read()"
   ]
  },
  {
   "cell_type": "markdown",
   "metadata": {
    "id": "H0W_eje2AchF"
   },
   "source": [
    "Loading the test data.\n"
   ]
  },
  {
   "cell_type": "code",
   "execution_count": null,
   "metadata": {
    "id": "02tj-DtqACIN"
   },
   "outputs": [],
   "source": [
    "with open('/content/drive/Shared drives/ex2_208298349_211538608/datasets/PTB/test/ptb.test.txt', 'r') as f:\n",
    "  test_txt = f.read()\n",
    "with open('/content/drive/Shared drives/ex2_208298349_211538608/datasets/PTB/test/ptb.char.test.txt', 'r') as f:\n",
    "  test_char = f.read()"
   ]
  },
  {
   "cell_type": "markdown",
   "metadata": {
    "id": "kHGP29KjOFzF"
   },
   "source": [
    "#Creating the text data and its correct predictions"
   ]
  },
  {
   "cell_type": "markdown",
   "metadata": {
    "id": "bES7NjJ6OZse"
   },
   "source": [
    "Cleans the text from any \"bad\" words or usless chars like punctuatuions."
   ]
  },
  {
   "cell_type": "code",
   "execution_count": null,
   "metadata": {
    "id": "aPw2Y2XlV81l"
   },
   "outputs": [],
   "source": [
    "def clean_txt(txt):\n",
    "  return txt.replace(\"\\n\",\"<eos>\") # a string of the words"
   ]
  },
  {
   "cell_type": "markdown",
   "metadata": {
    "id": "uuhXzXuROTN-"
   },
   "source": [
    "Creates the dictionoary that maps the word to a number"
   ]
  },
  {
   "cell_type": "code",
   "execution_count": null,
   "metadata": {
    "id": "FIqjJG0qRCGF"
   },
   "outputs": [],
   "source": [
    "def create_mapping(original):\n",
    "  data = clean_txt(original)\n",
    "  # data = original.split()\n",
    "  data = [word for word in data.split()]\n",
    "  counts = Counter(data)\n",
    "  vocab = sorted(counts, key=counts.get, reverse=True)\n",
    "  mapping = {word:i for i,word in enumerate(vocab, 0)} \n",
    "  return mapping"
   ]
  },
  {
   "cell_type": "markdown",
   "metadata": {
    "id": "fOkkEWyZOhww"
   },
   "source": [
    "creating the text list of the train, validation, test data."
   ]
  },
  {
   "cell_type": "code",
   "execution_count": null,
   "metadata": {
    "id": "M3Qd3SB4U-Ws"
   },
   "outputs": [],
   "source": [
    "mapping = create_mapping(train_txt)\n",
    "anamoly_mapping = len(mapping)\n",
    "#if the word is known from the training set we give it the appropiate value, otherwise set it to a anomaly value\n",
    "train_t = [mapping[word] if word in mapping else anamoly_mapping for word in clean_txt(train_txt).split()]\n",
    "test_t = [mapping[word] if word in mapping else anamoly_mapping for word in clean_txt(test_txt).split()]\n",
    "valid_t = [mapping[word] if word in mapping else anamoly_mapping for word in clean_txt(val_txt).split()]\n",
    "number2word = {number: word for word, number in mapping.items()}"
   ]
  },
  {
   "cell_type": "markdown",
   "metadata": {
    "id": "MDZiFd6jOrHe"
   },
   "source": [
    "Creating the text list of the correct predictions - we just \"indent\" the words by one index and then (in the last word) loop around."
   ]
  },
  {
   "cell_type": "code",
   "execution_count": null,
   "metadata": {
    "id": "hrIqiaW5O52z"
   },
   "outputs": [],
   "source": [
    "train_pred = train_t[1:] + [train_t[0]]\n",
    "test_pred = test_t[1:] + [test_t[0]]\n",
    "valid_pred = valid_t[1:] + [valid_t[0]]\n"
   ]
  },
  {
   "cell_type": "markdown",
   "metadata": {
    "id": "8z9ncQNqNO3O"
   },
   "source": [
    "##Creating the loaders for our data - if needed"
   ]
  },
  {
   "cell_type": "code",
   "execution_count": null,
   "metadata": {
    "id": "_D0vCYhvWYZt"
   },
   "outputs": [],
   "source": [
    "def split_data_to_seqs(data: list, seq_length):\n",
    "  sequences_amount = len(data) // seq_length\n",
    "  # print(f'length of data: {len(data)} sequences amount: {sequences_amount} ')\n",
    "  data = data[:(sequences_amount)*seq_length] #truncating the last not complete seq\n",
    "  # print(f'length of new data: {len(data)}')  \n",
    "  data_arr = np.array(data)\n",
    "  data_arr = data_arr.reshape((sequences_amount, seq_length))\n",
    "\n",
    "  print(data_arr.shape)\n",
    "  return data_arr"
   ]
  },
  {
   "cell_type": "code",
   "execution_count": null,
   "metadata": {
    "id": "pGgp1INJBqkK"
   },
   "outputs": [],
   "source": [
    "def split_batches(data_on_seqs: np.array, preds_on_seqs, batch_size=20):\n",
    "  # print(data_on_seqs.shape)\n",
    "  perms = np.random.permutation(data_on_seqs.shape[0])\n",
    "  np.take(data_on_seqs, perms, axis=0, out=data_on_seqs)\n",
    "  np.take(preds_on_seqs, perms, axis=0, out=preds_on_seqs)\n",
    "\n",
    "  # print(data_on_seqs.shape)\n",
    "#   arr = torch.LongTensor(data)\n",
    "\n",
    "  for n in range(0, data_on_seqs.shape[0], batch_size):\n",
    "    x = torch.LongTensor(data_on_seqs[n: n + batch_size, :]) # [batch_size, seq_length]\n",
    "    y = torch.LongTensor(preds_on_seqs[n: n + batch_size, :]) # [batch_size, seq_length]\n",
    "    yield x, y"
   ]
  },
  {
   "cell_type": "code",
   "execution_count": null,
   "metadata": {
    "colab": {
     "base_uri": "https://localhost:8080/"
    },
    "executionInfo": {
     "elapsed": 1823,
     "status": "ok",
     "timestamp": 1608498426203,
     "user": {
      "displayName": "Dror Schein",
      "photoUrl": "",
      "userId": "01101521150089879805"
     },
     "user_tz": -120
    },
    "id": "R3dnahPoHfPo",
    "outputId": "51a2c061-5e19-4058-c5e7-be9d522d423b"
   },
   "outputs": [
    {
     "name": "stdout",
     "output_type": "stream",
     "text": [
      "(46479, 20)\n",
      "(3688, 20)\n",
      "(4121, 20)\n",
      "(46479, 20)\n",
      "(3688, 20)\n",
      "(4121, 20)\n"
     ]
    }
   ],
   "source": [
    "train_data = split_data_to_seqs(train_t, 20)\n",
    "valid_data = split_data_to_seqs(valid_t, 20)\n",
    "test_data = split_data_to_seqs(test_t, 20)\n",
    "\n",
    "train_pred_data = split_data_to_seqs(train_pred, 20)\n",
    "valid_pred_data = split_data_to_seqs(valid_pred, 20)\n",
    "test_pred_data = split_data_to_seqs(test_pred, 20)\n"
   ]
  },
  {
   "cell_type": "code",
   "execution_count": null,
   "metadata": {
    "colab": {
     "base_uri": "https://localhost:8080/"
    },
    "executionInfo": {
     "elapsed": 1818,
     "status": "ok",
     "timestamp": 1608498426203,
     "user": {
      "displayName": "Dror Schein",
      "photoUrl": "",
      "userId": "01101521150089879805"
     },
     "user_tz": -120
    },
    "id": "jyppLK5TNOTv",
    "outputId": "6d91aede-7df6-43f6-fd14-f80c1afe6fda"
   },
   "outputs": [
    {
     "name": "stdout",
     "output_type": "stream",
     "text": [
      "(46479, 20)\n",
      "(46479, 20)\n",
      "(3688, 20)\n",
      "(3688, 20)\n",
      "(4121, 20)\n",
      "(4121, 20)\n"
     ]
    }
   ],
   "source": [
    "seq_length = 20\n",
    "train_seqs = split_data_to_seqs(train_t, seq_length)\n",
    "\n",
    "# create Tensor datasets\n",
    "train_data_temp = TensorDataset(torch.from_numpy(train_seqs),\n",
    "                           torch.from_numpy(split_data_to_seqs(train_pred, seq_length)))\n",
    "valid_data_temp = TensorDataset(torch.from_numpy(split_data_to_seqs(valid_t, seq_length)),\n",
    "                           torch.from_numpy(split_data_to_seqs(valid_pred, seq_length)))\n",
    "test_data_temp = TensorDataset(torch.from_numpy(split_data_to_seqs(test_t, seq_length)),\n",
    "                          torch.from_numpy(split_data_to_seqs(test_pred, seq_length)))\n",
    "\n",
    "# dataloaders\n",
    "batch_size = 20\n",
    "\n",
    "# make sure the SHUFFLE your training data\n",
    "train_loader = DataLoader(train_data_temp, shuffle=True, batch_size=batch_size)\n",
    "valid_loader = DataLoader(valid_data_temp, shuffle=True, batch_size=batch_size)\n",
    "test_loader = DataLoader(test_data_temp, shuffle=True, batch_size=batch_size)"
   ]
  },
  {
   "cell_type": "markdown",
   "metadata": {
    "id": "8cNWgWurQiet"
   },
   "source": [
    "##Fixed Hyper Parametrs"
   ]
  },
  {
   "cell_type": "code",
   "execution_count": null,
   "metadata": {
    "id": "Ulb-Yivqg7UZ"
   },
   "outputs": [],
   "source": [
    "#hyper paramaters\n",
    "batch_size = 20\n",
    "seq_length = 20\n",
    "# learning_rate = 1\n",
    "vocab_size = len(mapping) + 1 #for the anamoly word\n",
    "embedding_size = 200\n",
    "# num_epochs = 13\n",
    "num_layers = 2\n",
    "# factor = 1.5\n"
   ]
  },
  {
   "cell_type": "markdown",
   "metadata": {
    "id": "sGyreF49ZW1W"
   },
   "source": [
    "##We split data to batches"
   ]
  },
  {
   "cell_type": "code",
   "execution_count": null,
   "metadata": {
    "id": "Xht9j7CAjyKI"
   },
   "outputs": [],
   "source": [
    "def get_batches(data, batch_size, seq_length):\n",
    "  arr = torch.LongTensor(data)\n",
    "  batch_size_total = batch_size * seq_length\n",
    "  n_batches = len(arr)//batch_size_total\n",
    "  arr = arr[:n_batches * batch_size_total]\n",
    "  # Reshape into batch_size rows\n",
    "  arr = arr.reshape((batch_size, -1))\n",
    "  for n in range(0, arr.shape[1], seq_length):\n",
    "    x = arr[:, n:n+seq_length]\n",
    "    y = torch.zeros_like(x)\n",
    "    try:\n",
    "      y[:, :-1], y[:, -1] = x[:, 1:], arr[:, n+seq_length]\n",
    "    except IndexError:\n",
    "      y[:, :-1], y[:, -1] = x[:, 1:], arr[:, 0]\n",
    "    yield x, y\n"
   ]
  },
  {
   "cell_type": "markdown",
   "metadata": {
    "id": "pnqo-mh_XeDY"
   },
   "source": [
    "#Defining the model"
   ]
  },
  {
   "cell_type": "code",
   "execution_count": null,
   "metadata": {
    "id": "nyDKaX6bkdpY"
   },
   "outputs": [],
   "source": [
    "class Model(nn.Module):\n",
    "  def __init__(self, mode = 'LSTM', with_drop = True, vocab_size = 10001, embedding_size = 200, \n",
    "               hidden_size = 200, n_layers = 2, drop = 0.5, batch_size = 20, seq_length=20):\n",
    "    super(Model, self).__init__()\n",
    "\n",
    "    self.mode = mode\n",
    "    self.with_drop = with_drop\n",
    "    self.embedding_size = embedding_size\n",
    "    self.hidden_size = hidden_size\n",
    "    self.n_layers = n_layers\n",
    "    self.drop = drop\n",
    "    self.batch_size = batch_size\n",
    "    self.embedding = nn.Embedding(vocab_size, embedding_size)\n",
    "    self.vocab_size = vocab_size\n",
    "    self.seq_length = seq_length\n",
    "\n",
    "    if mode == 'LSTM':\n",
    "      if with_drop == True:\n",
    "        self.rnn = nn.LSTM(embedding_size, hidden_size, n_layers,\n",
    "                           dropout = drop, batch_first=True)\n",
    "        self.dropout = nn.Dropout(drop)\n",
    "      else:\n",
    "        self.rnn = nn.LSTM(embedding_size, hidden_size, n_layers, batch_first=True)\n",
    "    \n",
    "    else:\n",
    "      if with_drop == True:\n",
    "        self.rnn = nn.GRU(embedding_size, hidden_size, n_layers,\n",
    "                          dropout = drop, batch_first=True)\n",
    "        self.dropout = nn.Dropout(drop)\n",
    "      else:\n",
    "        self.rnn = nn.GRU(embedding_size, hidden_size, n_layers, batch_first=True)\n",
    "\n",
    "    for name in self.embedding.named_parameters():\n",
    "      if 'weight' in name[0]:\n",
    "        torch.nn.init.uniform_(name[1], a=-0.1, b=0.1)\n",
    "\n",
    "    self.classifier = nn.Linear(hidden_size, vocab_size)\n",
    "    for name in self.classifier.named_parameters():\n",
    "      if 'weight' in name[0]:\n",
    "        torch.nn.init.uniform_(name[1], a=-0.1, b=0.1)\n",
    "      elif 'bias' in name[0]:\n",
    "        torch.nn.init.zeros_(name[1])\n",
    "    \n",
    "\n",
    "  def forward(self, x, hidden):\n",
    "    x = self.embedding(x)\n",
    "    if self.with_drop == True:\n",
    "      x = self.dropout(x)#_before(x)\n",
    "    out, hidden = self.rnn(x, hidden)\n",
    "    out = out.contiguous().view(-1, self.hidden_size)\n",
    "    if self.with_drop == True:\n",
    "      out = self.dropout(out)#_after(out)\n",
    "    out = self.classifier(out)\n",
    "    out = out.view(self.batch_size, self.seq_length, -1)\n",
    "\n",
    "    return out, hidden\n",
    "\n",
    "  def init_hidden(self):\n",
    "    '''In GRU we only carry on a hidden state and not a tuple of (hidden, c)'''\n",
    "    weight = next(self.parameters()).data\n",
    "    if self.mode == 'LSTM':\n",
    "      if device == 'cuda':\n",
    "          hidden = (weight.new(self.n_layers, self.batch_size, self.hidden_size).zero_().cuda(),\n",
    "                weight.new(self.n_layers, self.batch_size, self.hidden_size).zero_().cuda())\n",
    "      else:\n",
    "          hidden = (weight.new(self.n_layers, self.batch_size, self.hidden_size).zero_(),\n",
    "                    weight.new(self.n_layers, self.batch_size, self.hidden_size).zero_())\n",
    "    else:\n",
    "      if device == 'cuda':\n",
    "          hidden = weight.new(self.n_layers, self.batch_size, self.hidden_size).zero_().cuda()\n",
    "      else:\n",
    "          hidden = weight.new(self.n_layers, self.batch_size, self.hidden_size).zero_()\n",
    "    return hidden\n"
   ]
  },
  {
   "cell_type": "markdown",
   "metadata": {
    "id": "CbtKkDhuVdzl"
   },
   "source": [
    "#Training the model"
   ]
  },
  {
   "cell_type": "markdown",
   "metadata": {
    "id": "Oe58scJiXNS7"
   },
   "source": [
    "This code cell was taken from: https://discuss.pytorch.org/t/adaptive-learning-rate/320/2"
   ]
  },
  {
   "cell_type": "code",
   "execution_count": null,
   "metadata": {
    "id": "C8zEf9H0jdLB"
   },
   "outputs": [],
   "source": [
    "def adjust_learning_rate(optimizer, epoch, max_epochs, factor=2, shrink_every=2, shrink_since = 6):\n",
    "    \"\"\"we start the *reduce by factor of 2 only after a 1/3 of the epochs have passed*\"\"\"\n",
    "    if epoch >= shrink_since and epoch % shrink_every == 0: # if max = 13 than we will get that only for epochs 5 and up (13//3 = 4) we will decrease\n",
    "      for param_group in optimizer.param_groups:\n",
    "        param_group['lr'] = param_group['lr'] * (1/factor)\n"
   ]
  },
  {
   "cell_type": "markdown",
   "metadata": {
    "id": "SnB2kL46j39Z"
   },
   "source": [
    "##Training using \"get_batches\""
   ]
  },
  {
   "cell_type": "code",
   "execution_count": null,
   "metadata": {
    "id": "vAebMgTMyM-b"
   },
   "outputs": [],
   "source": [
    "def train_model(model, criterion, optimizer, num_layers, batch_size,\n",
    "                train_t, valid_t, num_epochs = 20, clip = 5, factor=2, shrink_every=1, shrink_since=4, seq_length=20, supress_output = False):\n",
    "  \n",
    "  if model.with_drop == False:\n",
    "    num_epochs = 13\n",
    "  train_perp = []\n",
    "  val_perp = []\n",
    "  for epoch in range(num_epochs):\n",
    "    adjust_learning_rate(optimizer, epoch+1, num_epochs, factor, shrink_every, shrink_since) ##THIS FUNCTION REDUCES THE LR BY A FACTOR OF 2 EACH EPOCH \n",
    "    begin = time.time()\n",
    "    train_losses = []\n",
    "    model.train()\n",
    "    hidden = model.init_hidden()#.to(device)#initiation\n",
    "    for inputs, preds in get_batches(train_t,batch_size,seq_length):\n",
    "      if inputs.shape[0] < batch_size:\n",
    "        break #we reached the final batch and it doesn't fit\n",
    "      inputs, preds = inputs.to(device), preds.to(device)\n",
    "\n",
    "      if model.mode == \"LSTM\":\n",
    "        hidden = tuple([each.data for each in hidden]) \n",
    "      elif model.mode == \"GRU\":\n",
    "        hidden = hidden.data # it's not a tuple so we don't create a tuple.\n",
    "        \n",
    "      optimizer.zero_grad()\n",
    "      output, hidden = model(inputs, hidden)\n",
    "      loss = criterion(torch.transpose(output,1,2), preds)\n",
    "      loss.backward()\n",
    "      train_losses.append(loss.item())\n",
    "\n",
    "      nn.utils.clip_grad_norm_(model.parameters(), clip) \n",
    "      optimizer.step()  \n",
    "\n",
    "    # final eval after the full epoch\n",
    "    val_hidden = model.init_hidden()#.to(device)\n",
    "    val_losses = []\n",
    "    model.eval()\n",
    "    with torch.no_grad():\n",
    "      for inputs, preds in get_batches(valid_t,batch_size,seq_length):\n",
    "        if inputs.shape[0] < batch_size:\n",
    "          break #we reached the final batch and it doesn't fit\n",
    "        inputs, preds = inputs.to(device), preds.to(device)\n",
    "        if model.mode == \"LSTM\":\n",
    "          val_hidden = tuple([each.data for each in val_hidden]) \n",
    "        elif model.mode == \"GRU\":\n",
    "          val_hidden = val_hidden.data\n",
    "\n",
    "        output, val_hidden = model(inputs, val_hidden)\n",
    "        val_loss = criterion(torch.transpose(output,1,2), preds)    \n",
    "        val_losses.append(val_loss.item())\n",
    "   \n",
    "    train_loss_with_mean = torch.mean(torch.FloatTensor(train_losses)) \n",
    "    val_loss_with_mean = torch.mean(torch.FloatTensor(val_losses))\n",
    "    train_perp.append(torch.exp(train_loss_with_mean))\n",
    "    val_perp.append(torch.exp(val_loss_with_mean))\n",
    "    if supress_output == False:\n",
    "      print(\"Epoch: {}/{}...\".format(epoch+1, num_epochs),\n",
    "            \"Train Perplexity: {:.4f}...\".format(train_perp[epoch]),\n",
    "            \"Validation Perplexity: {:.4f}...\".format(val_perp[epoch]))\n",
    "      print('time per epoch: ', time.time()-begin)\n",
    "  return model, train_perp, val_perp"
   ]
  },
  {
   "cell_type": "markdown",
   "metadata": {
    "id": "vIaOC_Xsj851"
   },
   "source": [
    "##Training using our randomization"
   ]
  },
  {
   "cell_type": "code",
   "execution_count": null,
   "metadata": {
    "id": "2suacN9suVIa"
   },
   "outputs": [],
   "source": [
    "def train_model_with_random(model, criterion, optimizer, num_layers, batch_size,\n",
    "                train_data, valid_data, train_pred_data, valid_pred_data,\n",
    "                 num_epochs = 20, clip = 2.5, factor=2, shrink_every=2, shrink_since=6, seq_length=20):\n",
    "  \n",
    "  if model.with_drop == False:\n",
    "    num_epochs = 13\n",
    "  train_perp = []\n",
    "  val_perp = []\n",
    "  for epoch in range(num_epochs):\n",
    "    adjust_learning_rate(optimizer, epoch+1, num_epochs, factor, shrink_every, shrink_since) ##THIS FUNCTION REDUCES THE LR BY A FACTOR OF 2 EACH EPOCH \n",
    "\n",
    "    begin = time.time()\n",
    "    counter = 0\n",
    "    train_losses = []\n",
    "    model.train()\n",
    "    hidden = model.init_hidden()#.to(device)#initiation\n",
    "    for inputs, preds in split_batches(train_data, train_pred_data, batch_size):\n",
    "      if inputs.shape[0] < batch_size:\n",
    "        # print(f'TRAIN SMALLER BATCH, INPUT: {inputs.shape} PREDS: {preds.shape}')\n",
    "        break #we reached the final batch and it doesn't fit\n",
    "      inputs, preds = inputs.to(device), preds.to(device)\n",
    "      # print(\"val: \", inputs.shape)\n",
    "      if model.mode == \"LSTM\":\n",
    "        hidden = tuple([each.data for each in hidden]) \n",
    "      elif model.mode == \"GRU\":\n",
    "        hidden = hidden.data # it's not a tuple so we don't create a tuple.\n",
    "      optimizer.zero_grad()\n",
    "      output, hidden = model(inputs, hidden)\n",
    "      # print(f'output: {output.shape}, pred: {preds.shape}')\n",
    "      # fit_output = torch.transpose(output,1,2)\n",
    "      #first switch between the seq and the porb guess, second is switch between the seq and the batch \n",
    "      # print(f'fit output: {fit_output.shape}, pred: {preds.shape}')\n",
    "      loss = criterion(torch.transpose(output,1,2), preds)\n",
    "      loss.backward()\n",
    "      train_losses.append(loss.item())\n",
    "\n",
    "      nn.utils.clip_grad_norm_(model.parameters(), clip) \n",
    "      optimizer.step()  \n",
    "      # counter += 1\n",
    "\n",
    "    # final eval after the full epoch\n",
    "    val_hidden = model.init_hidden()#.to(device)\n",
    "    val_losses = []\n",
    "    val_counter = 0\n",
    "    model.eval()\n",
    "    with torch.no_grad():\n",
    "      for inputs, preds in split_batches(valid_data, valid_pred_data, batch_size):\n",
    "        if inputs.shape[0] < batch_size:\n",
    "          # print(f'VALIDATION SMALLER BATCH, INPUT: {inputs.shape} PREDS: {preds.shape}')\n",
    "          break #we reached the final batch and it doesn't fit\n",
    "        inputs, preds = inputs.to(device), preds.to(device)\n",
    "        if model.mode == \"LSTM\":\n",
    "          val_hidden = tuple([each.data for each in val_hidden]) \n",
    "        elif model.mode == \"GRU\":\n",
    "          val_hidden = val_hidden.data\n",
    "\n",
    "        output, val_hidden = model(inputs, val_hidden)\n",
    "        val_loss = criterion(torch.transpose(output,1,2), preds)    \n",
    "        val_losses.append(val_loss.item())\n",
    "        # val_counter +=1\n",
    "    # model.train()\n",
    "    # train_loss = torch.sum(torch.FloatTensor(train_losses))/counter\n",
    "    train_loss_with_mean = torch.mean(torch.FloatTensor(train_losses)) \n",
    "    # val_loss = torch.sum(torch.FloatTensor(val_losses))/val_counter\n",
    "    val_loss_with_mean = torch.mean(torch.FloatTensor(val_losses))\n",
    "    train_perp.append(torch.exp(train_loss_with_mean))\n",
    "    val_perp.append(torch.exp(val_loss_with_mean))\n",
    "    print(\"Epoch: {}/{}...\".format(epoch+1, num_epochs),\n",
    "            \"Train Perplexity: {:.4f}...\".format(train_perp[epoch]),\n",
    "            \"Validation Perplexity: {:.4f}...\".format(val_perp[epoch]))\n",
    "    print('time per epoch: ', time.time()-begin)\n",
    "  return model, train_perp, val_perp  "
   ]
  },
  {
   "cell_type": "markdown",
   "metadata": {
    "id": "K-kGmMWTkBWn"
   },
   "source": [
    "##Training using the loaders"
   ]
  },
  {
   "cell_type": "code",
   "execution_count": null,
   "metadata": {
    "id": "1Zh08cUViNSe"
   },
   "outputs": [],
   "source": [
    "def train_model_with_loaders(model, criterion, optimizer, num_layers, batch_size,\n",
    "                train_loader, valid_loader, num_epochs = 20, clip = 2.5, factor=2, shrink_every=2, shrink_since=6, seq_length=20):\n",
    "  \n",
    "  if model.with_drop == False:\n",
    "    num_epochs = 13\n",
    "  train_perp = []\n",
    "  val_perp = []\n",
    "  for epoch in range(num_epochs):\n",
    "    adjust_learning_rate(optimizer, epoch+1, num_epochs, factor, shrink_every, shrink_since) ##THIS FUNCTION REDUCES THE LR BY A FACTOR OF 2 EACH EPOCH \n",
    "\n",
    "    begin = time.time()\n",
    "    counter = 0\n",
    "    train_losses = []\n",
    "    model.train()\n",
    "    hidden = model.init_hidden()#.to(device)#initiation\n",
    "    for inputs, preds in train_loader:\n",
    "      if inputs.shape[0] < batch_size:\n",
    "        # print(f'TRAIN SMALLER BATCH, INPUT: {inputs.shape} PREDS: {preds.shape}')\n",
    "        break #we reached the final batch and it doesn't fit\n",
    "      inputs, preds = inputs.to(device), preds.to(device)\n",
    "    \n",
    "      if model.mode == \"LSTM\":\n",
    "        hidden = tuple([each.data for each in hidden]) \n",
    "      elif model.mode == \"GRU\":\n",
    "        hidden = hidden.data # it's not a tuple so we don't create a tuple.\n",
    "      # hidden = model.init_hidden()\n",
    "      \n",
    "      optimizer.zero_grad()\n",
    "      output, hidden = model(inputs, hidden)\n",
    "      loss = criterion(torch.transpose(output,1,2), preds)\n",
    "      loss.backward()\n",
    "      train_losses.append(loss.item())\n",
    "\n",
    "      nn.utils.clip_grad_norm_(model.parameters(), clip) \n",
    "      optimizer.step()  \n",
    "      # counter += 1\n",
    "\n",
    "    # final eval after the full epoch\n",
    "    val_hidden = model.init_hidden()#.to(device)\n",
    "    val_losses = []\n",
    "    val_counter = 0\n",
    "    model.eval()\n",
    "    with torch.no_grad():\n",
    "      for inputs, preds in valid_loader:\n",
    "        if inputs.shape[0] < batch_size:\n",
    "          # print(f'VALIDATION SMALLER BATCH, INPUT: {inputs.shape} PREDS: {preds.shape}')\n",
    "          break #we reached the final batch and it doesn't fit\n",
    "        inputs, preds = inputs.to(device), preds.to(device)\n",
    "        if model.mode == \"LSTM\":\n",
    "          val_hidden = tuple([each.data for each in val_hidden]) \n",
    "        elif model.mode == \"GRU\":\n",
    "          val_hidden = val_hidden.data\n",
    "        # val_hidden = model.init_hidden()\n",
    "\n",
    "        output, val_hidden = model(inputs, val_hidden)\n",
    "        val_loss = criterion(torch.transpose(output,1,2), preds)    \n",
    "        val_losses.append(val_loss.item())\n",
    "        # val_counter +=1\n",
    "    # model.train()\n",
    "    # train_loss = torch.sum(torch.FloatTensor(train_losses))/counter\n",
    "    train_loss_with_mean = torch.mean(torch.FloatTensor(train_losses)) \n",
    "    # val_loss = torch.sum(torch.FloatTensor(val_losses))/val_counter\n",
    "    val_loss_with_mean = torch.mean(torch.FloatTensor(val_losses))\n",
    "    train_perp.append(torch.exp(train_loss_with_mean))\n",
    "    val_perp.append(torch.exp(val_loss_with_mean))\n",
    "    print(\"Epoch: {}/{}...\".format(epoch+1, num_epochs),\n",
    "            \"Train Perplexity: {:.4f}...\".format(train_perp[epoch]),\n",
    "            \"Validation Perplexity: {:.4f}...\".format(val_perp[epoch]))\n",
    "    print('time per epoch: ', time.time()-begin)\n",
    "  return model, train_perp, val_perp"
   ]
  },
  {
   "cell_type": "markdown",
   "metadata": {
    "id": "Hcb2IWJCVK38"
   },
   "source": [
    "#Save and load models"
   ]
  },
  {
   "cell_type": "code",
   "execution_count": null,
   "metadata": {
    "id": "bAmLzsVOPpl5"
   },
   "outputs": [],
   "source": [
    "def save_model_with_checkpoint(model, lr):\n",
    "  if model.with_drop == True:\n",
    "      model_path = f'/content/drive/Shared drives/ex2_208298349_211538608/Models/rnn_{model.mode}_drop_{model.drop}_lr_{lr}.net'\n",
    "  else:\n",
    "      model_path = f'/content/drive/Shared drives/ex2_208298349_211538608/Models/rnn_{model.mode}_without_lr_{lr}.net'\n",
    "\n",
    "  checkpoint = {'mode': model.mode,\n",
    "                'with_drop': model.with_drop,\n",
    "                'vocab_size': model.vocab_size,\n",
    "                'embedding_size': model.embedding_size,\n",
    "                'hidden_size': model.hidden_size,\n",
    "                'n_layers': model.n_layers,\n",
    "                'drop': model.drop,\n",
    "                'batch_size': model.batch_size,\n",
    "                'state_dict': model.state_dict()}\n",
    "  with open(model_path, 'wb') as f:\n",
    "    torch.save(checkpoint, f)"
   ]
  },
  {
   "cell_type": "code",
   "execution_count": null,
   "metadata": {
    "id": "VMRFiGbERvA9"
   },
   "outputs": [],
   "source": [
    "def save_all_model_checkpint(models: list, lrs: list):\n",
    "  for model, lr in zip(models, lrs):\n",
    "    print(f'mode: {model.mode}, drop: {model.with_drop}, lr: {lr}')\n",
    "  for model, lr in zip(models, lrs):\n",
    "    save_model_with_checkpoint(model, lr)"
   ]
  },
  {
   "cell_type": "code",
   "execution_count": null,
   "metadata": {
    "id": "FITv5jZrSGxB"
   },
   "outputs": [],
   "source": [
    "def load_model_from_file(file_name: str):\n",
    "  with open(file_name, 'rb') as f:\n",
    "    checkpoint = torch.load(f)\n",
    "    \n",
    "\n",
    "  loaded_model = Model(checkpoint['mode'],\n",
    "                       checkpoint['with_drop'], #checkpoint['vocab_size'],\n",
    "                       checkpoint['vocab_size'],\n",
    "                       checkpoint['embedding_size'],\n",
    "                       checkpoint['hidden_size'],\n",
    "                       checkpoint['n_layers'],\n",
    "                       checkpoint['drop'],\n",
    "                       checkpoint['batch_size'])\n",
    "  loaded_model.load_state_dict(checkpoint['state_dict'])\n",
    "  return loaded_model"
   ]
  },
  {
   "cell_type": "code",
   "execution_count": null,
   "metadata": {
    "id": "hLKiHXF035B9"
   },
   "outputs": [],
   "source": [
    "def load_model_from_mode(mode:str, with_drop, drop: float, lr: float):\n",
    "  try:\n",
    "    if with_drop:\n",
    "      return load_model_from_file(f'/content/drive/Shared drives/ex2_208298349_211538608/Models/rnn_{mode}_drop_{drop}_lr_{lr}.net')\n",
    "    else:\n",
    "      return load_model_from_file(f'/content/drive/Shared drives/ex2_208298349_211538608/Models/rnn_{mode}_without_lr_{lr}.net')\n",
    "  except:\n",
    "    print(\"no such file exist, if entered with drop try and put a different drop value\")"
   ]
  },
  {
   "cell_type": "markdown",
   "metadata": {
    "id": "9VGXeqTq2q5U"
   },
   "source": [
    "#Evaluating the models"
   ]
  },
  {
   "cell_type": "code",
   "execution_count": null,
   "metadata": {
    "id": "RC69i8Mi2xTV"
   },
   "outputs": [],
   "source": [
    "def evaluate_model(model, test_data, criterion, batch_size=20, seq_length=20):\n",
    "  test_hidden = model.init_hidden()#.to(device)\n",
    "  test_losses = []\n",
    "  test_counter = 0\n",
    "  model.eval()\n",
    "  with torch.no_grad():\n",
    "    for inputs, preds in get_batches(test_data, batch_size, seq_length):\n",
    "      if inputs.shape[0] < batch_size:\n",
    "        break #we reached the final batch and it doesn't fit\n",
    "      inputs, preds = inputs.to(device), preds.to(device)\n",
    "      if model.mode == \"LSTM\":\n",
    "        test_hidden = tuple([each.data for each in test_hidden]) \n",
    "      elif model.mode == \"GRU\":\n",
    "        test_hidden = test_hidden.data\n",
    "\n",
    "      output, test_hidden = model(inputs, test_hidden)\n",
    "      test_loss = criterion(torch.transpose(output,1,2), preds)    \n",
    "      test_losses.append(test_loss.item())\n",
    "      test_counter +=1\n",
    "  # test_loss = torch.sum(torch.FloatTensor(test_losses))/test_counter\n",
    "  test_loss_with_mean = torch.mean(torch.FloatTensor(test_losses))\n",
    "  test_perp = torch.exp(test_loss_with_mean)\n",
    "  print(\"Test Perplexity: {:.4f}...\".format(test_perp),\n",
    "        \"Test loss: {:.4f}...\".format(test_loss_with_mean))"
   ]
  },
  {
   "cell_type": "markdown",
   "metadata": {
    "id": "P21k4mcWVUa3"
   },
   "source": [
    "\n",
    "#Train and save all models"
   ]
  },
  {
   "cell_type": "code",
   "execution_count": null,
   "metadata": {
    "id": "r1ytXsPz1M8U"
   },
   "outputs": [],
   "source": [
    "def train_net_to_dict(name:str, mode: str, with_drop: bool, drop, model_dict, lr, factor = 1.5,\n",
    "                      halve_from = 7, halve_every = 2, momentum = 0.9, supress_output = False):\n",
    "  model_dict[name] = Model(mode=mode, drop=drop, with_drop=with_drop).to(device)\n",
    "  criterion = nn.CrossEntropyLoss() #has to be like that so we can define the preplexity easily.\n",
    "  # optimizer = optim.SGD(model_dict[name].parameters(), lr = lr, momentum=0.5)\n",
    "  optimizer = optim.SGD(model_dict[name].parameters(), lr = lr, weight_decay=1e-5, momentum = momentum)\n",
    "  # model_dict[\"LSTM\"], train_dict[\"LSTM\"], val_dict[\"LSTM\"] =\n",
    "\n",
    "# model, criterion, optimizer, num_layers, batch_size,\n",
    "                # train_t, valid_t, num_epochs = 20, clip = 1.5, factor=2, shrink_every=1, shrink_since=4, seq_length=20\n",
    "\n",
    "  return train_model(model_dict[name], criterion, optimizer, model_dict[name].n_layers, batch_size, train_t, valid_t, \n",
    "                     factor=factor,shrink_every = halve_every,shrink_since = halve_from , supress_output = supress_output)"
   ]
  },
  {
   "cell_type": "code",
   "execution_count": null,
   "metadata": {
    "id": "xI6Edox3vxAh"
   },
   "outputs": [],
   "source": [
    "def train_and_save_all_models(lstm_drop=0.2, gru_drop=0.3, supress_output = True):\n",
    "  #default - LSTM + no_dropout\n",
    "  #Define dictionary for the models and perps\n",
    "  model_dict = {}\n",
    "  train_dict = {\"LSTM\":[], \"LSTM_drop\":[], \"GRU\":[], \"GRU_drop\":[]}\n",
    "  val_dict = {\"LSTM\":[], \"LSTM_drop\":[], \"GRU\":[], \"GRU_drop\":[]}\n",
    "  lr_dict = {\"LSTM\":1.3, \"LSTM_drop\":1.3, \"GRU\":0.25, \"GRU_drop\":0.35}\n",
    "  drop_dict = {\"LSTM_drop\":lstm_drop, \"GRU_drop\":gru_drop}\n",
    "  factor_dict = {\"LSTM\":1.3, \"LSTM_drop\":1.3, \"GRU\":1.5, \"GRU_drop\":1.25}\n",
    "  halve_every_dict = {\"LSTM\":2, \"LSTM_drop\":2, \"GRU\":1, \"GRU_drop\":1}\n",
    "  halve_from_dict = {\"LSTM\":7, \"LSTM_drop\":7, \"GRU\":6, \"GRU_drop\":7}\n",
    "\n",
    "  # LSTM without drop\n",
    "  print(\"training LSTM without drop\")\n",
    "  model_dict[\"LSTM\"], train_dict[\"LSTM\"], val_dict[\"LSTM\"] = train_net_to_dict(\"LSTM\", \"LSTM\", False, 0, model_dict, lr_dict[\"LSTM\"],\n",
    "                                                                                halve_from = halve_from_dict[\"LSTM\"],\n",
    "                                                                                halve_every =halve_every_dict[\"LSTM\"],\n",
    "                                                                                factor = factor_dict[\"LSTM\"],\n",
    "                                                                                supress_output = supress_output)\n",
    "  # LSTM with drop\n",
    "  print(\"training LSTM with drop\")\n",
    "  model_dict[\"LSTM_drop\"], train_dict[\"LSTM_drop\"], val_dict[\"LSTM_drop\"] = train_net_to_dict(\"LSTM_drop\", \"LSTM\", True,\n",
    "                                                                                              drop_dict[\"LSTM_drop\"],\n",
    "                                                                                              model_dict, lr_dict[\"LSTM_drop\"],\n",
    "                                                                                              halve_from = halve_from_dict[\"LSTM_drop\"],\n",
    "                                                                                              halve_every = halve_every_dict[\"LSTM_drop\"],\n",
    "                                                                                              factor = factor_dict[\"LSTM_drop\"],\n",
    "                                                                                              supress_output = supress_output)\n",
    "  # GRU without drop\n",
    "  print(\"training GRU without drop\")\n",
    "  model_dict[\"GRU\"], train_dict[\"GRU\"], val_dict[\"GRU\"] = train_net_to_dict(\"GRU\", \"GRU\", False, 0, model_dict, lr_dict[\"GRU\"],\n",
    "                                                                                halve_from = halve_from_dict[\"GRU\"],\n",
    "                                                                                halve_every = halve_every_dict[\"GRU\"],\n",
    "                                                                                factor = factor_dict[\"GRU\"],\n",
    "                                                                                supress_output = supress_output)\n",
    "  # GRU with drop\n",
    "  print(\"training GRU with drop\")\n",
    "  model_dict[\"GRU_drop\"], train_dict[\"GRU_drop\"], val_dict[\"GRU_drop\"] = train_net_to_dict(\"GRU_drop\", \"GRU\", True,\n",
    "                                                                                              drop_dict[\"GRU_drop\"],\n",
    "                                                                                              model_dict, lr_dict[\"GRU_drop\"],\n",
    "                                                                                              halve_from = halve_from_dict[\"GRU_drop\"],\n",
    "                                                                                              halve_every = halve_every_dict[\"GRU_drop\"],\n",
    "                                                                                              factor = factor_dict[\"GRU_drop\"],\n",
    "                                                                                              momentum = 0.95,\n",
    "                                                                                              supress_output = supress_output)  # model_drop[\"GRU_drop\"] = Model(mode=\"GRU\", drop=0.4, with_drop=True).to(device)\n",
    "  return model_dict, train_dict, val_dict, lr_dict"
   ]
  },
  {
   "cell_type": "code",
   "execution_count": null,
   "metadata": {
    "id": "8MYlEjym2Bnv"
   },
   "outputs": [],
   "source": [
    "def test_all_models(model_dict):\n",
    "  for model_name,model in model_dict.items():\n",
    "    print(f'testing model: {model_name}')\n",
    "    evaluate_model(model,test_t,nn.CrossEntropyLoss())"
   ]
  },
  {
   "cell_type": "markdown",
   "metadata": {
    "id": "E7N2cSpgl310"
   },
   "source": [
    "#Diaplay Results:"
   ]
  },
  {
   "cell_type": "code",
   "execution_count": null,
   "metadata": {
    "id": "FJcFzzeDqR_l"
   },
   "outputs": [],
   "source": [
    "def index_4by4(i):\n",
    "  return (int(0.5*(1**(i//2+1))+0.5*((-1)**(i//2+1))),\n",
    "          int(0.5*(1**(i+1))+0.5*((-1)**(i+1))))"
   ]
  },
  {
   "cell_type": "code",
   "execution_count": null,
   "metadata": {
    "id": "TNppKeOskG8k"
   },
   "outputs": [],
   "source": [
    "def display_graphs(train_perp: dict, val_perp: dict):\n",
    "  '''\n",
    "  displayes the results given to it as graphs\n",
    "  the results are given as a dictionary\n",
    "  '''\n",
    "  size = len(train_perp)\n",
    "  i = 0\n",
    "  fig, axs = plt.subplots(2, size//2, figsize = (20,10))\n",
    "  fig.tight_layout(pad=3.0)\n",
    "  for key_train, key_val in zip(train_perp.keys(), val_perp.keys()):\n",
    "      x_axis = np.arange(1, len(train_perp[key_train]) + 1) #number of epochs\n",
    "      row, col = index_4by4(i)\n",
    "      axs[row, col].plot(x_axis, train_perp[key_train],'g',label = 'training accuracy')\n",
    "      axs[row, col].plot(x_axis, val_perp[key_val],'r',label = 'valid accuracy')\n",
    "      axs[row, col].set_xlabel('epochs')\n",
    "      axs[row, col].set_ylabel('perplexity')\n",
    "      axs[row, col].set_title(key_train + ' net')\n",
    "      axs[row, col].legend()\n",
    "      i+=1"
   ]
  },
  {
   "cell_type": "markdown",
   "metadata": {
    "id": "525MItVUvaOc"
   },
   "source": [
    "#Run and train all models:"
   ]
  },
  {
   "cell_type": "code",
   "execution_count": null,
   "metadata": {
    "id": "R5SuvsrMvdYc"
   },
   "outputs": [],
   "source": [
    "def run_save_display_all():  \n",
    "  model_dict, train_dict, val_dict,lr_dict = train_and_save_all_models()\n",
    "  save_all_model_checkpint(model_dict.values(), lr_dict.values())\n",
    "  test_all_models(model_dict)\n",
    "  print(\"training graphs:\")\n",
    "  display_graphs(train_dict,val_dict)"
   ]
  },
  {
   "cell_type": "code",
   "execution_count": null,
   "metadata": {
    "id": "6Iy07RM638UZ"
   },
   "outputs": [],
   "source": [
    "def run_all_presaved():\n",
    "  lstm = load_model_from_mode(\"LSTM\", False, 0.2, 1.3).to(device)\n",
    "  print(\"evaluating pre trained LSTM without drop:\")\n",
    "  evaluate_model(lstm, test_t,nn.CrossEntropyLoss())\n",
    "  lstm_drop = load_model_from_mode(\"LSTM\",True,0.2,1.3).to(device)\n",
    "  print(\"evaluating pre trained LSTM with drop:\")\n",
    "  evaluate_model(lstm_drop, test_t,nn.CrossEntropyLoss())\n",
    "  gru = load_model_from_mode(\"GRU\",False,0.3,0.25).to(device)\n",
    "  print(\"evaluating pre trained GRU without drop:\")\n",
    "  evaluate_model(gru, test_t,nn.CrossEntropyLoss())\n",
    "  gru_drop = load_model_from_mode(\"GRU\",True,0.3,0.35).to(device)\n",
    "  print(\"evaluating pre trained GRU with drop:\")\n",
    "  evaluate_model(gru_drop, test_t,nn.CrossEntropyLoss())"
   ]
  },
  {
   "cell_type": "code",
   "execution_count": null,
   "metadata": {
    "colab": {
     "base_uri": "https://localhost:8080/",
     "height": 948
    },
    "executionInfo": {
     "elapsed": 1233147,
     "status": "ok",
     "timestamp": 1608500868123,
     "user": {
      "displayName": "Dror Schein",
      "photoUrl": "",
      "userId": "01101521150089879805"
     },
     "user_tz": -120
    },
    "id": "YUTJu3ks0nB_",
    "outputId": "9578e6fe-dce8-4e0f-e761-bcf37bbe5923"
   },
   "outputs": [
    {
     "name": "stdout",
     "output_type": "stream",
     "text": [
      "training LSTM without drop\n",
      "training LSTM with drop\n",
      "training GRU without drop\n",
      "training GRU with drop\n",
      "mode: LSTM, drop: False, lr: 1.3\n",
      "mode: LSTM, drop: True, lr: 1.3\n",
      "mode: GRU, drop: False, lr: 0.25\n",
      "mode: GRU, drop: True, lr: 0.35\n",
      "testing model: LSTM\n",
      "Test Perplexity: 118.0842... Test loss: 4.7714...\n",
      "testing model: LSTM_drop\n",
      "Test Perplexity: 92.7155... Test loss: 4.5295...\n",
      "testing model: GRU\n",
      "Test Perplexity: 116.5346... Test loss: 4.7582...\n",
      "testing model: GRU_drop\n",
      "Test Perplexity: 95.9117... Test loss: 4.5634...\n"
     ]
    },
    {
     "data": {
      "image/png": "[encoded data removed]",
      "text/plain": [
       "<Figure size 1440x720 with 4 Axes>"
      ]
     },
     "metadata": {
      "needs_background": "light",
      "tags": []
     },
     "output_type": "display_data"
    }
   ],
   "source": [
    "run_save_display_all()"
   ]
  },
  {
   "cell_type": "code",
   "execution_count": null,
   "metadata": {
    "colab": {
     "base_uri": "https://localhost:8080/"
    },
    "executionInfo": {
     "elapsed": 3249,
     "status": "ok",
     "timestamp": 1608501110382,
     "user": {
      "displayName": "Dror Schein",
      "photoUrl": "",
      "userId": "01101521150089879805"
     },
     "user_tz": -120
    },
    "id": "lhkt-xt85E8z",
    "outputId": "1c29e996-dbdc-45fd-96f1-bae3969b2b2d"
   },
   "outputs": [
    {
     "name": "stdout",
     "output_type": "stream",
     "text": [
      "evaluating pre trained LSTM without drop:\n",
      "Test Perplexity: 118.0842... Test loss: 4.7714...\n",
      "evaluating pre trained LSTM with drop:\n",
      "Test Perplexity: 92.7155... Test loss: 4.5295...\n",
      "evaluating pre trained GRU without drop:\n",
      "Test Perplexity: 116.5346... Test loss: 4.7582...\n",
      "evaluating pre trained GRU with drop:\n",
      "Test Perplexity: 95.9117... Test loss: 4.5634...\n"
     ]
    }
   ],
   "source": [
    "run_all_presaved()"
   ]
  },
  {
   "cell_type": "markdown",
   "metadata": {
    "id": "wE5_pjGpmIEH"
   },
   "source": [
    "#running specific models:"
   ]
  },
  {
   "cell_type": "code",
   "execution_count": null,
   "metadata": {
    "id": "8-PNwpxuscDQ"
   },
   "outputs": [],
   "source": [
    "#run this cell before running specific models\n",
    "train_perp_dict = {'LSTM+Dropout':[], 'LSTM':[], 'GRU+Dropout':[], 'GRU':[]}\n",
    "val_perp_dict = {'LSTM+Dropout':[], 'LSTM':[], 'GRU+Dropout':[], 'GRU':[]}"
   ]
  },
  {
   "cell_type": "markdown",
   "metadata": {
    "id": "rgwCwKGilQxL"
   },
   "source": [
    "##**LSTM+Dropout:**\n",
    "dropout = 0.25, lr = 1.3, weight_decay = 1e-5\n",
    "momentum = 0.9, clip = 5, factor = 1.3,\n",
    "shrink_every = 2, shrink_since = 7.\n",
    "\n",
    "**result:** \n",
    "\n",
    "* Train Perplexity: 69.1756... Validation Perplexity: 97.0195...\n",
    "* Test Perplexity: 94.0705... Test loss: 4.5440...\n"
   ]
  },
  {
   "cell_type": "code",
   "execution_count": null,
   "metadata": {
    "id": "tD5BHW6llZCo"
   },
   "outputs": [],
   "source": [
    "lstm_drop_drop = 0.25\n",
    "lstm_drop_lr = 1.3\n",
    "lstm_drop_wd = 1e-5\n",
    "lstm_drop_mom = 0.9\n",
    "lstm_drop_clip = 5\n",
    "lstm_drop_factor = 1.3\n",
    "lstm_drop_se = 2\n",
    "lstm_drop_ss = 7"
   ]
  },
  {
   "cell_type": "code",
   "execution_count": null,
   "metadata": {
    "id": "pG4Qo-XnP77c"
   },
   "outputs": [],
   "source": [
    "lstm_drop = Model(mode=\"LSTM\", with_drop=True, drop=lstm_drop_drop, vocab_size=vocab_size).to(device)\n",
    "optimizer = optim.SGD(lstm_drop.parameters(), lr=lstm_drop_lr, weight_decay=lstm_drop_wd, momentum = lstm_drop_mom)\n",
    "lstm_drop, lstm_drop_train_perp, lstm_drop_val_perp = train_model(lstm_drop, nn.CrossEntropyLoss(), optimizer,\n",
    "                                                                  lstm_drop.n_layers, lstm_drop.batch_size, train_t, valid_t,\n",
    "                                                                  20, clip=lstm_drop_clip, factor=lstm_drop_factor,\n",
    "                                                                  shrink_every=lstm_drop_se, shrink_since=lstm_drop_ss)\n",
    "\n"
   ]
  },
  {
   "cell_type": "code",
   "execution_count": null,
   "metadata": {
    "id": "AUglWYNYEnX7"
   },
   "outputs": [],
   "source": [
    "evaluate_model(lstm_drop, test_t, nn.CrossEntropyLoss())"
   ]
  },
  {
   "cell_type": "code",
   "execution_count": null,
   "metadata": {
    "id": "aIhVgNsiRcAT"
   },
   "outputs": [],
   "source": [
    "save_model_with_checkpoint(lstm_drop, lstm_drop_lr)\n",
    "train_perp_dict['LSTM+Dropout'] = lstm_drop_train_perp\n",
    "val_perp_dict['LSTM+Dropout'] = lstm_drop_val_perp"
   ]
  },
  {
   "cell_type": "markdown",
   "metadata": {
    "id": "J5tRe4LHmr2Z"
   },
   "source": [
    "##**LSTM:**\n",
    "lr = 1.3, weight_decay = 1e-5 momentum = 0.9, clip = 5, factor = 1.3, shrink_every = 2, shrink_since = 7.\n",
    "\n",
    "results: \n",
    "* Train Perplexity: 56.0069... Validation Perplexity: 121.5314...\n",
    "* Test Perplexity: 117.8864... Test loss: 4.7697..."
   ]
  },
  {
   "cell_type": "code",
   "execution_count": null,
   "metadata": {
    "id": "Sgd48U7WmwqC"
   },
   "outputs": [],
   "source": [
    "lstm_lr = 1.3\n",
    "lstm_wd = 1e-5\n",
    "lstm_mom = 0.9\n",
    "lstm_clip = 5\n",
    "lstm_factor = 1.3\n",
    "lstm_se = 2\n",
    "lstm_ss = 7"
   ]
  },
  {
   "cell_type": "code",
   "execution_count": null,
   "metadata": {
    "id": "uS-cSPeRmwqN"
   },
   "outputs": [],
   "source": [
    "lstm = Model(mode=\"LSTM\", with_drop=False, vocab_size=vocab_size).to(device)\n",
    "optimizer = optim.SGD(lstm.parameters(), lr=lstm_lr, weight_decay=lstm_wd, momentum = lstm_mom)\n",
    "lstm, lstm_train_perp, lstm_val_perp = train_model(lstm, nn.CrossEntropyLoss(), optimizer,\n",
    "                                                                  lstm.n_layers, lstm.batch_size, train_t, valid_t,\n",
    "                                                                  20, clip=lstm_clip, factor=lstm_factor,\n",
    "                                                                  shrink_every=lstm_se, shrink_since=lstm_ss)\n",
    "\n",
    "\n",
    "# adamLSTM = train_model_with_loaders(adamLSTM, nn.CrossEntropyLoss(), optimizer, adamLSTM.n_layers,\n",
    "                      #  adamLSTM.batch_size, train_loader, valid_loader, 20, clip=2.5)"
   ]
  },
  {
   "cell_type": "code",
   "execution_count": null,
   "metadata": {
    "id": "BXYI3IOj38Q1"
   },
   "outputs": [],
   "source": [
    "evaluate_model(lstm, test_t, criterion=nn.CrossEntropyLoss())"
   ]
  },
  {
   "cell_type": "code",
   "execution_count": null,
   "metadata": {
    "id": "icJmXDOamwqN"
   },
   "outputs": [],
   "source": [
    "save_model_with_checkpoint(lstm, lstm_lr)\n",
    "train_perp_dict['LSTM'] = lstm_train_perp\n",
    "val_perp_dict['LSTM'] = lstm_val_perp"
   ]
  },
  {
   "cell_type": "markdown",
   "metadata": {
    "id": "1E-kaYtSmxvD"
   },
   "source": [
    "##**GRU+Dropout:**\n",
    "\n",
    "drop = 0.3, lr= 0.35, weight_decay = 1e-5 momentum = 0.95, clip = 5, factor = 1.25, shrink_every = 1, shrink_since = 7.\n",
    "\n",
    "results: \n",
    "* Train Perplexity: 69.1082... Validation Perplexity: 99.4743...\n",
    "\n",
    "\n",
    "* Test Perplexity: 95.8644... Test loss: 4.5629...\n",
    "\n",
    "\n"
   ]
  },
  {
   "cell_type": "code",
   "execution_count": null,
   "metadata": {
    "id": "48uxGbWKm3vE"
   },
   "outputs": [],
   "source": [
    "gru_drop_drop = 0.3\n",
    "gru_drop_lr = 0.35\n",
    "gru_drop_wd = 1e-5\n",
    "gru_drop_mom = 0.95\n",
    "gru_drop_clip = 5\n",
    "gru_drop_factor = 1.25\n",
    "gru_drop_se = 1\n",
    "gru_drop_ss = 7"
   ]
  },
  {
   "cell_type": "code",
   "execution_count": null,
   "metadata": {
    "id": "vEpXGLaTm3vF"
   },
   "outputs": [],
   "source": [
    "gru_drop = Model(mode=\"GRU\", with_drop=True, drop=gru_drop_drop, vocab_size=vocab_size).to(device)\n",
    "optimizer = optim.SGD(gru_drop.parameters(), lr=gru_drop_lr, weight_decay=gru_drop_wd, momentum = gru_drop_mom)\n",
    "gru_drop, gru_drop_train_perp, gru_drop_val_perp = train_model(gru_drop, nn.CrossEntropyLoss(), optimizer,\n",
    "                                                                  gru_drop.n_layers, gru_drop.batch_size, train_t, valid_t,\n",
    "                                                                  20, clip=gru_drop_clip, factor=gru_drop_factor,\n",
    "                                                                  shrink_every=gru_drop_se, shrink_since=gru_drop_ss)\n",
    "\n",
    "\n",
    "# adamLSTM = train_model_with_loaders(adamLSTM, nn.CrossEntropyLoss(), optimizer, adamLSTM.n_layers,\n",
    "                      #  adamLSTM.batch_size, train_loader, valid_loader, 20, clip=2.5)"
   ]
  },
  {
   "cell_type": "code",
   "execution_count": null,
   "metadata": {
    "id": "DRSF_WMYFCfm"
   },
   "outputs": [],
   "source": [
    "evaluate_model(gru_drop, test_t, criterion=nn.CrossEntropyLoss())"
   ]
  },
  {
   "cell_type": "code",
   "execution_count": null,
   "metadata": {
    "id": "AekOZCjhm3vG"
   },
   "outputs": [],
   "source": [
    "# save_model_with_checkpoint(gru_drop, gru_drop_lr)\n",
    "train_perp_dict['GRU+Dropout'] = gru_drop_train_perp\n",
    "val_perp_dict['GRU+Dropout'] = gru_drop_val_perp"
   ]
  },
  {
   "cell_type": "markdown",
   "metadata": {
    "id": "GIawMazRmxno"
   },
   "source": [
    "##**GRU:**\n",
    "\n",
    "\n",
    "lr= 0.25, weight_decay = 1e-5 momentum = 0.9, clip = 5, factor = 1.5, shrink_every = 1, shrink_since = 6.\n",
    "\n",
    "results: \n",
    "* Train Perplexity: 48.5318... Validation Perplexity: 119.8510...\n",
    "\n",
    "\n",
    "* Test Perplexity: 116.7573... Test loss: 4.7601...\n",
    "\n"
   ]
  },
  {
   "cell_type": "code",
   "execution_count": null,
   "metadata": {
    "id": "rBKmKc2pm4tD"
   },
   "outputs": [],
   "source": [
    "gru_lr = 0.25\n",
    "gru_wd = 1e-5\n",
    "gru_mom = 0.9\n",
    "gru_clip = 5\n",
    "gru_factor = 1.5\n",
    "gru_se = 1\n",
    "gru_ss = 6"
   ]
  },
  {
   "cell_type": "code",
   "execution_count": null,
   "metadata": {
    "id": "oYytXZNOm4tE"
   },
   "outputs": [],
   "source": [
    "gru = Model(mode=\"GRU\", with_drop=False, vocab_size=vocab_size).to(device)\n",
    "optimizer = optim.SGD(gru.parameters(), lr=gru_lr, weight_decay=gru_wd, momentum = gru_mom)\n",
    "gru, gru_train_perp, gru_val_perp = train_model(gru, nn.CrossEntropyLoss(), optimizer,\n",
    "                                                                  gru.n_layers, gru.batch_size, train_t, valid_t,\n",
    "                                                                  20, clip=gru_clip, factor=gru_factor,\n",
    "                                                                  shrink_every=gru_se, shrink_since=gru_ss)\n",
    "\n",
    "\n",
    "# adamLSTM = train_model_with_loaders(adamLSTM, nn.CrossEntropyLoss(), optimizer, adamLSTM.n_layers,\n",
    "                      #  adamLSTM.batch_size, train_loader, valid_loader, 20, clip=2.5)"
   ]
  },
  {
   "cell_type": "code",
   "execution_count": null,
   "metadata": {
    "id": "0Na5OjjUFIdZ"
   },
   "outputs": [],
   "source": [
    "evaluate_model(gru, test_t, criterion=nn.CrossEntropyLoss())"
   ]
  },
  {
   "cell_type": "code",
   "execution_count": null,
   "metadata": {
    "id": "bctPb9Yjm4tE"
   },
   "outputs": [],
   "source": [
    "save_model_with_checkpoint(gru, gru_lr)\n",
    "train_perp_dict['GRU'] = gru_train_perp\n",
    "val_perp_dict['GRU'] = gru_val_perp"
   ]
  },
  {
   "cell_type": "code",
   "execution_count": null,
   "metadata": {
    "id": "kB4Ax1AYoN9N"
   },
   "outputs": [],
   "source": [
    "display_graphs(train_perp_dict, val_perp_dict)"
   ]
  },
  {
   "cell_type": "markdown",
   "metadata": {
    "id": "c5JygM5_-cko"
   },
   "source": [
    "#Testing Loaded Models:"
   ]
  },
  {
   "cell_type": "code",
   "execution_count": null,
   "metadata": {
    "id": "OgCSPi5S8Xdn"
   },
   "outputs": [],
   "source": [
    "lstm_loaded = load_model_from_mode(\"LSTM\", False, 0.25, 1.3).to(device)\n",
    "print(lstm_loaded.mode)\n",
    "evaluate_model(lstm_loaded, test_t, nn.CrossEntropyLoss())"
   ]
  }
 ],
 "metadata": {
  "accelerator": "GPU",
  "colab": {
   "collapsed_sections": [],
   "name": "Ex2CleanRNN.ipynb",
   "provenance": [],
   "toc_visible": true
  },
  "kernelspec": {
   "display_name": "Python 3",
   "language": "python",
   "name": "python3"
  },
  "language_info": {
   "codemirror_mode": {
    "name": "ipython",
    "version": 3
   },
   "file_extension": ".py",
   "mimetype": "text/x-python",
   "name": "python",
   "nbconvert_exporter": "python",
   "pygments_lexer": "ipython3",
   "version": "3.8.8"
  }
 },
 "nbformat": 4,
 "nbformat_minor": 1
}
